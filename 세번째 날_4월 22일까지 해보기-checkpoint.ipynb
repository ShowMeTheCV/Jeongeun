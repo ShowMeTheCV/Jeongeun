{
 "cells": [
  {
   "cell_type": "markdown",
   "metadata": {},
   "source": [
    "## 이번주 목표 : OpenCV 주요클래스 실습\n",
    "\n",
    ">  이 블럭 안의 질문을 풀어보고 와주세요!"
   ]
  },
  {
   "cell_type": "markdown",
   "metadata": {},
   "source": [
    "- 이번 실습에서는 OpenCV를 다루기 위한 기초 예제를 다룬다.         \n",
    "- OpenCV는 영상 처리 이론과 이미지 구성요소, 기본 데이터 타입을 활용해 이미지를 처리한다.        \n",
    "- OpenCV는 N차원 배열에 대한 복합적인 연산을 수행할 수 있지만, __주된 용도는 이미지 처리다.__       \n",
    "- __이미지는 2차원 배열인 행렬이다.__   "
   ]
  },
  {
   "cell_type": "markdown",
   "metadata": {},
   "source": [
    "### 1. 이미지 입력          \n",
    "---\n",
    "\n",
    "- 이미지 파일의 형식은 수백가지이나, OpenCV에서 이미지를 다루는 경우 가장 많이 사용되는 형식은 __JPG나 PNG 형식이다.__  \n",
    "- JPG나 PNG는 __래스터 그래픽스 이미지 파일 포맷이다.(비트맵 이미지로, 격자판의 형태로 각 격자마자 화소의 데이터가 담겨 있는 이미지 파일 포맷이다.)__   \n",
    "- 이미지 파일마다 디지털 화상을 생성하고 데이터를 압축/무압축해서 저장하는 고유한 방식이 있다.     \n",
    "- 따라서, 이미지를 읽기 위해서는 이러한 고유한 포맷을 해석할 수 있어야 한다.   \n",
    "\n",
    "\n",
    "- OpenCV는 래스터 그래픽스 이미지 파일 포맷을 쉽게 불러올 수 있는 별도의 함수를 제공한다.   \n",
    "- 이러한 함수는, 이미지 데이터 구조에  필요한 메모리를 할당하고, 파일 시그니처(저장 형식)를 읽어 __코덱__ 을 결정한다.      \n",
    "\n",
    "\n",
    "\n",
    "* 코덱 : 어떠한 데이터 스트림이나 신호에 대해, 인코딩이나 디코딩, 혹은 둘 다를 할 수 있는 하드웨어나 소프트웨어를 일컫는다.    "
   ]
  },
  {
   "cell_type": "markdown",
   "metadata": {},
   "source": [
    "> Q1. Python OpenCV에서는 이미지 입력을 어떤 함수로 나타내나요? 이 함수의 요소에는 무엇이 있나요?"
   ]
  },
  {
   "cell_type": "markdown",
   "metadata": {},
   "source": [
    "> cv2.imread(filename, flags=cv2.IMREAD_COLOR)     \n",
    "\n",
    "- 파일명 : 경로를 포함한 입력 파일의 이름(절대경로/상대경로 상대경로일 경우 실행하고있는 .py가 있는 경로를 기준으로 한다.)       \n",
    "- 플래그 : 입력된 파일을 어떻게 해석할지"
   ]
  },
  {
   "cell_type": "markdown",
   "metadata": {},
   "source": [
    "__cv2.imread(파일명, 플래그)__\n",
    "\n",
    "- 이미지 입력 함수는 파일 시스템에서 __이미지를 응용 프로그램으로 가져온다.__       \n",
    "- 파일명 : 경로를 포함한 입력 파일의 이름\n",
    "- 플래그 : 입력 파일을 어떻게 해석할 지 정하는 옵션"
   ]
  },
  {
   "cell_type": "markdown",
   "metadata": {},
   "source": [
    "> Q2.절대 경로와 상대경로의 차이는 무엇인가요? 표현 방식은 어떻게 다른가요?"
   ]
  },
  {
   "cell_type": "markdown",
   "metadata": {},
   "source": [
    "절대경로 : 이미지의 전체 경로(헤드라인으로부터)                \n",
    "- D:/Images/Orange.png          \n",
    "- /usr/local/Images/Orange.png\n",
    "\n",
    "\n",
    "상대경로 : 현재 위치로부터의 상대적인 경로(이 경우 .py 파일이 존재하는 위치를 기준 경로로 삼는다)        \n",
    "- ../Orange.png"
   ]
  },
  {
   "cell_type": "markdown",
   "metadata": {},
   "source": [
    "> Q3. 플래그의 기본값과 옵션에는 어떤 것들이 있나요? 몇 가지를 정리해봅시다."
   ]
  },
  {
   "cell_type": "markdown",
   "metadata": {},
   "source": [
    "- 기본값을 '색상값'으로 가짐           \n",
    "- 기본 플래그는 8비트, 3채널, BGR 이미지로 세팅되어 있다.         \n",
    "\n",
    "1. cv.IMREAD_GRAYSCALE(그레이스케일)       \n",
    "2. cv.IMREAD_COLOR(컬러이미지)        \n",
    "3. cv.IMREAD_UNCHANGED(알파 채널을 포함하여 이미지 반환/알파 없을 경우 일반 컬러로 반환)"
   ]
  },
  {
   "cell_type": "markdown",
   "metadata": {},
   "source": [
    "- python의 경우, 이미지가 존재하지 않아도 오류가 나지 않는다.(C#은 오류로 처리됨)         \n",
    "- 이는 이미지(로 변환될 행렬)가 존재하지 않는 경우, 반환값이 None이 되기 때문이다.      \n",
    "- __색상 이미지는 BGR 순서로 저장된다.__     "
   ]
  },
  {
   "cell_type": "markdown",
   "metadata": {},
   "source": [
    "> Q4. 예제 4.2를 수행하고 결과를 확인해보세요."
   ]
  },
  {
   "cell_type": "code",
   "execution_count": 6,
   "metadata": {},
   "outputs": [
    {
     "name": "stdout",
     "output_type": "stream",
     "text": [
      "/home/ssac23/ShowMeTheCV/Jeongeun/PostingPic/pooh.jpg\n",
      "ndim 2\n",
      "shape (517, 450) 오 진짜 이 셰이프 현실이랑 반대에요 / 원래 이미지 사이즈 (450*517)\n",
      "dtyp uint8\n"
     ]
    }
   ],
   "source": [
    "import cv2\n",
    "import os\n",
    "\n",
    "image_path = os.getenv('HOME') + '/ShowMeTheCV/Jeongeun/PostingPic/pooh.jpg'\n",
    "print(image_path)\n",
    "src = cv2.imread(image_path, cv2.IMREAD_GRAYSCALE)\n",
    "\n",
    "print('ndim', src.ndim)\n",
    "print('shape', src.shape, '오 진짜 이 셰이프 현실이랑 반대에요 / 원래 이미지 사이즈 (450*517)')\n",
    "print('dtyp', src.dtype)"
   ]
  },
  {
   "cell_type": "markdown",
   "metadata": {},
   "source": [
    "### 2. 이미지 출력"
   ]
  },
  {
   "cell_type": "markdown",
   "metadata": {},
   "source": [
    "- 지금까지는 이미지를 행렬로 처리하고, 데이터로 확인하였으나 이미지를 시각적으로 확인해보는 것도 중요하다.      \n",
    "- OpenCV는 HighGUI라 불리는 라이브러리를 지원하여, 이 라이브러리를 활용하여 윈도우를 열고, 윈도우에 이미지를 출력하도록 할 수 있다.   "
   ]
  },
  {
   "cell_type": "markdown",
   "metadata": {},
   "source": [
    "> Q5. python의 이미지 출력 함수는 어떤 모습인가요?"
   ]
  },
  {
   "cell_type": "markdown",
   "metadata": {},
   "source": [
    "> cv.imshow(winname, ndarray)          \n",
    "\n",
    "- 윈도우를 통해 이미지 출력이 가능함     \n",
    "- winname : 윈도우 이름        \n",
    "- ndarray : 이미지 행렬         \n",
    "- 윈도우의 속성을 변경할 때는 변수가 아니라 winname에 변경 속성을 적용한다."
   ]
  },
  {
   "cell_type": "markdown",
   "metadata": {},
   "source": [
    "> Q6. 하나의 이미지를 예제 4.4로 출력해보세요."
   ]
  },
  {
   "cell_type": "code",
   "execution_count": null,
   "metadata": {},
   "outputs": [],
   "source": [
    "import cv2\n",
    "\n",
    "image_path = os.getenv('HOME') + '/ShowMeTheCV/Jeongeun/PostingPic/pooh.jpg'\n",
    "new = cv2.imread(image_path, cv2.IMREAD_GRAYSCALE)\n",
    "\n",
    "#윈도우 속성을 먼저 지정해주고\n",
    "cv2.namedWindow(\"src\", flags=cv2.WINDOW_FREERATIO)\n",
    "cv2.resizeWindow(\"src\", 200,250)\n",
    "\n",
    "#이미지를 출력함\n",
    "cv2.imshow(\"src\", new)\n",
    "cv2.waitKey(0)\n",
    "cv2.destroyWindow(\"src\")"
   ]
  },
  {
   "cell_type": "markdown",
   "metadata": {},
   "source": [
    "Python:\n",
    ">cv.namedWindow(\twinname[, flags]\t) ->\tNone"
   ]
  },
  {
   "cell_type": "markdown",
   "metadata": {},
   "source": [
    "> Q7. 표 4.2를 참고하여, 윈도우의 사이즈를 조정해보세요."
   ]
  },
  {
   "cell_type": "code",
   "execution_count": null,
   "metadata": {},
   "outputs": [],
   "source": [
    "cv2.resizeWindow(\"src\", 800,1100)\n",
    "\n",
    "#이미지를 출력함\n",
    "cv2.imshow(\"src\", new)\n",
    "cv2.waitKey(0)\n",
    "cv2.destroyWindow(\"src\")"
   ]
  },
  {
   "cell_type": "markdown",
   "metadata": {},
   "source": [
    "> Q8. 표 4.3, 표 4.4를 읽어보세요."
   ]
  },
  {
   "cell_type": "markdown",
   "metadata": {},
   "source": [
    "### 3. 동영상 출력                 \n",
    "\n",
    "- OpenCV를 이용하면 동영상 파일을 출력할 수 있다. __동영상 파일에서 순차적으로 프레임을 읽어, 이미지의 형태로 출력한다.__      \n",
    "- 동영상 파일을 읽으려면 컴퓨터에 동영상 코덱을 읽을 수 있는 라이브러리가 설치되어 있어야 한다.      \n",
    "- __OpenCV는 FFMPEG를 지원하므로 AVI나 MP4 등 다양한 형식의 동영상 파일을 손쉽게 읽을 수 있다.__          \n",
    "\n",
    "\n",
    "* FFMPEG : FFmpeg은 디지털 음성 스트림과 영상 스트림에 대해서 다양한 종류의 형태로 기록하고 변환하는 컴퓨터 프로그램이다.     "
   ]
  },
  {
   "cell_type": "markdown",
   "metadata": {},
   "source": [
    "> Q9. python OpenCV의 동영상 입력 클래스는 어떻게 표현되나요?"
   ]
  },
  {
   "cell_type": "markdown",
   "metadata": {},
   "source": [
    "> video = cv2.VideoCapture(fileName)           \n",
    "\n",
    "- 파일명 : 경로를 포함한 입력 파일의 이름"
   ]
  },
  {
   "cell_type": "markdown",
   "metadata": {},
   "source": [
    "> Q10. 예제 4.6을 활용하여 짧은 동영상을 출력해보세요."
   ]
  },
  {
   "cell_type": "code",
   "execution_count": null,
   "metadata": {},
   "outputs": [],
   "source": [
    "import cv2\n",
    "import os\n",
    "\n",
    "video_path = os.getenv('HOME') + '/ShowMeTheCV/Jeongeun/PostingPic/palm.mp4'\n",
    "print('경로', video_path)\n",
    "\n",
    "capture = cv2.VideoCapture(video_path)\n",
    "\n",
    "#반복문이 진행되는 동안, 동영상의 프레임을 읽어와 프레임별로 이미지 인화처럼 진행한다. \n",
    "while True:\n",
    "    \n",
    "    #ret(bool) : 현재 동영상에서 정상적으로 프레임을 읽었는지\n",
    "    #frame : 현재 프레임\n",
    "    ret, frame = capture.read()\n",
    "    \n",
    "    #현재 프레임 수 == 동영상의 전체 프레임 수\n",
    "    if(capture.get(cv2.CAP_PROP_POS_FRAME) == capture.get(cv2.CAP_PROP_FRAME_COUNT)):\n",
    "        capture.open(\"palm.mp4\")\n",
    "        \n",
    "    cv2.imshow(\"VideoFrame\", frame)\n",
    "    if cv2.waitKey(33) == ord('q'): break\n",
    "  \n",
    " #메모리 릴리즈, 윈도우 제거q\n",
    "capture.release()\n",
    "cv2.destroyAllWindows()"
   ]
  },
  {
   "cell_type": "markdown",
   "metadata": {},
   "source": [
    "#### FPS(Frame Per Second)          \n",
    "\n",
    "- 동영상을 출력할 때 중요한 요소는 영상이 바뀌는 속도이다.(== 화면이 얼마나 부드럽게 재생되느냐)        \n",
    "- __동영상은 멈춰있는 사진들이 순차적으로 출력되어 움직이는 화면처럼 만든 것을 의미한다.__     \n",
    "- __FPS(초당 프레임)가 높을수록 화면이 끊기지 않고 자연스럽게 출력된다.__  \n",
    "\n",
    "\n",
    "FPS 수식\n",
    "\n",
    "$ FPS= {1000\\over Interval}$"
   ]
  },
  {
   "cell_type": "markdown",
   "metadata": {},
   "source": [
    "- Interval : 대기할 밀리초 단위"
   ]
  },
  {
   "cell_type": "markdown",
   "metadata": {},
   "source": [
    "> Q11. 표 4.6을 확인하여 어떤 함수가 있는지 확인해주세요."
   ]
  },
  {
   "cell_type": "markdown",
   "metadata": {},
   "source": [
    "- 동영상 내의 상대적 위치를 설정하는 속성은 비디오의 특정 위치로 강제로 이동할 때 사용한다.        \n",
    "- ForCC는 현재 읽고 있는 동영상 파일에서 사용한 압축 코덱을 의미한다."
   ]
  },
  {
   "cell_type": "markdown",
   "metadata": {},
   "source": [
    "### 4. 카메라 출력               \n",
    "\n",
    "- __카메라 출력은 카메라가 스트리밍 형태로 동작할 때 사용한다.__          \n",
    "- 즉, 저장된 이미지나 동영상 파일이 아니라 __데이터를 실시간으로 받아오고 분석해야 하는 경우 카메라를 이용해 데이터를 처리한다.__    "
   ]
  },
  {
   "cell_type": "markdown",
   "metadata": {},
   "source": [
    "> Q12. python opencv의 카메라 출력 클래스는 어떻게 표현되나요?"
   ]
  },
  {
   "cell_type": "markdown",
   "metadata": {},
   "source": [
    "> capture = cv2.VideoCapture(index)"
   ]
  },
  {
   "cell_type": "markdown",
   "metadata": {},
   "source": [
    "__cv2.VideoCapture(index)__\n",
    "\n",
    "- index는 카메라의 장치 번호를 의미한다.         \n",
    "- 웹캠이 내장된 노트북이나, 카메라가 없는 컴퓨터에 카메라를 연결할 경우 장치 번호는 0을 사용한다.       \n",
    "- 그 외에 1,2,3 등의 장치번호를 사용해 추가된 외부 카메라를 사용할 수 있다."
   ]
  },
  {
   "cell_type": "markdown",
   "metadata": {},
   "source": [
    "> Q13. 예제 4.8을 타이핑해보세요."
   ]
  },
  {
   "cell_type": "code",
   "execution_count": null,
   "metadata": {},
   "outputs": [],
   "source": [
    "import cv2\n",
    "\n",
    "capture = cv2.VideoCapture(0)\n",
    "capture.set(cv2.CAP_PROP_FRAME_WIDTH, 640)\n",
    "capture.set(cv2.CAP_PROP_FRAME_HEIGHT, 480)\n",
    "\n",
    "while True:\n",
    "    ret, frame = capture.read()\n",
    "    \n",
    "    if ret == True:\n",
    "        cv2.imshow(\"VideoFrame\", frame)\n",
    "        if cv2.waitKey(33) == ord('q'):break\n",
    "            \n",
    "    else:\n",
    "        break\n",
    "        \n",
    "capture.release()\n",
    "cv2.destroyAllWindows()"
   ]
  },
  {
   "cell_type": "markdown",
   "metadata": {},
   "source": [
    "> Q14. Grab() 메서드와 Retrieve() 메서드에 대해 설명해주세요."
   ]
  },
  {
   "cell_type": "markdown",
   "metadata": {},
   "source": [
    "- Grab()       \n",
    "1. 메모리 복사 잡업을 수행하는 그랩 단계 : 사용하는 카메라에 여러 개의 헤드가 있을 때  \n",
    "2. 그랩 데이터를 디코딩하는 리트리브 단계 : 읽은 프레임은 디코딩하여 반환"
   ]
  },
  {
   "cell_type": "code",
   "execution_count": null,
   "metadata": {},
   "outputs": [],
   "source": []
  },
  {
   "cell_type": "markdown",
   "metadata": {},
   "source": [
    "### 5. 도형 그리기              \n",
    "\n",
    "- 도형 그리기는 __영상이나 이미지 위에 그래픽을 그리는 것을 의미한다.__     \n",
    "- OpenCV의 도형 그리기 함수는 __검출 결과를 시각적으로 표시하는 데 사용된다.(ex)object detection의 바인딩 박스)__"
   ]
  },
  {
   "cell_type": "markdown",
   "metadata": {},
   "source": [
    "- 도형 그리기 함수는 모든 정밀도와 채널에 대해 동작한다.         \n",
    "- 행렬(이미지)이 아닌 배열에도 도형을 그릴 수 있다.     \n",
    "- 그리기 함수는 위치, 두께, 색상, 선형 타입, 비트 시프트(bit shift) 등의 인수를 활용해 개체를 그린다.    \n",
    "- 선형 타입과 비트 시프트에 대해 알아보자.       \n",
    "\n",
    "### A. 선형 타입          \n",
    "\n",
    "- 도형을 그릴 때 어떤 유형의 선으로 그릴 지 결정하는 인수       \n",
    "\n",
    "1. 브레젠험(Bresenhams') 알고리즘 방식          \n",
    "2. 안티 엘리어싱 방식(Anti-Aliasing)     \n",
    "3. 내부 채우기 방식"
   ]
  },
  {
   "cell_type": "markdown",
   "metadata": {},
   "source": [
    "> Q15. 선형 타입 방식은 각각 어떤 방식인가요? 각각 어떻게 다른가요?"
   ]
  },
  {
   "cell_type": "markdown",
   "metadata": {},
   "source": [
    "1. 브레젠헴 알고리즘          \n",
    "- (4연결-8연결)         \n",
    "- 4연결 : 위아래좌우        \n",
    "- 8연결 : 위아래좌우대각선\n",
    "\n",
    "2. 안티 엘리어싱 방식       \n",
    "- 영상 신호의 결함을 없애기 위한 방법             \n",
    "- 이미지, 객체 가장자리 부분의 계단 현상을 없애기 위해 선을 둥글게 그리는 방식\n",
    "- 그럼 안티엘리어싱을 다른걸로 바꾸기 위해서는 K최근접중 가장 진한 값만 남기고 나머지 다 0으로 바꾸면 될까?\n",
    "\n",
    "3. 내부 채우기 방식\n",
    "\n",
    "> 선들은 점의 연속이다. 두 점 사이에 직선을 그린다면, 시작점과 도착점 사이에 연속한 점을 두게 되어 직선을 그리게 된다.     \n",
    "- 일반적으로 직선의 방정식을 사용하면 두 점 사이의 모든 좌표를 알 수 있으나, 실수 형태의 소수점이 발생한다.       \n",
    "- 이미지는 래스터 형식의 사각 격자 형태로 이루어진 행렬이며, 점의 좌표는 모두 정수 값으로 이루어져 있다.          \n",
    "- 따라서 정수로 한정된 공간에서 실수 연산을 하지 않고(건너뛰고) 정수연산으로만 선을 그릴 수 있도록 하는 것이 브레젠험 알고리즘이다."
   ]
  },
  {
   "cell_type": "markdown",
   "metadata": {},
   "source": [
    "### B. 비트 시프트          \n",
    "\n",
    "- 도형 그리기에 사용되는 값은 일반적으로 정수 값이다.       \n",
    "- __하지만 비트 시프트를 이용하면 소수점 이하의 값이 포함된 실수 좌표로도 도형 그리기 함수를 사용할 수 있다.__    "
   ]
  },
  {
   "cell_type": "markdown",
   "metadata": {},
   "source": [
    "> 비트시프트 그리기 + 안티앨리어싱의 경우 가우스 필터링으로 소수점 좌표는 흐림 효과 적용"
   ]
  },
  {
   "cell_type": "markdown",
   "metadata": {},
   "source": [
    "[좌표](https://wjdgh283.tistory.com/entry/OpenGL%EB%A1%9C-%EB%B0%B0%EC%9A%B0%EB%8A%94-%EC%BB%B4%ED%93%A8%ED%84%B0-%EA%B7%B8%EB%9E%98%ED%94%BD%EC%8A%A4-Chapter-09-%EB%9E%98%EC%8A%A4%ED%84%B0%EB%B3%80%ED%99%98Rasterization)"
   ]
  },
  {
   "cell_type": "markdown",
   "metadata": {},
   "source": [
    "> Q16. 하나의 이미지를 불러오고, 이 이미지의 크기를 확인하세요."
   ]
  },
  {
   "cell_type": "code",
   "execution_count": 1,
   "metadata": {},
   "outputs": [
    {
     "data": {
      "text/plain": [
       "<matplotlib.image.AxesImage at 0x7fa71431ce90>"
      ]
     },
     "execution_count": 1,
     "metadata": {},
     "output_type": "execute_result"
    },
    {
     "data": {
      "image/png": "[encoded data removed]",
      "text/plain": [
       "<Figure size 432x288 with 1 Axes>"
      ]
     },
     "metadata": {
      "needs_background": "light"
     },
     "output_type": "display_data"
    }
   ],
   "source": [
    "import cv2\n",
    "import os\n",
    "import matplotlib.pyplot as plt\n",
    "\n",
    "image_path = os.getenv('HOME') + '/ShowMeTheCV/Jeongeun/PostingPic/pooh.jpg'\n",
    "new = cv2.imread(image_path, cv2.IMREAD_GRAYSCALE)\n",
    "\n",
    "plt.imshow(new)"
   ]
  },
  {
   "cell_type": "markdown",
   "metadata": {},
   "source": [
    "> Q17. 직선, 사각형, 원, 호, 내부가 채워지지 않은 다각형, 내부가 채워진 다각형, 문자 클래스를 확인하고 어떻게 표현되는 지 적어보세요."
   ]
  },
  {
   "cell_type": "markdown",
   "metadata": {},
   "source": [
    "1. 직선             \n",
    "   cv2.line(image, point1, point2, color, thickness=None, lineType=None, shift=None)      \n",
    " \n",
    "- 두께\n",
    "- 라인타입   \n",
    "- 비트시프트할 값\n",
    "\n",
    "2. 사각형그리기    \n",
    "   cv2.rectangle(image, point1, point2, color, thickness=None, lineType=None, shift=None)     \n",
    "   - 좌상단(pt1) ~ 우상단(pt2)           \n",
    "   \n",
    "   \n",
    "3. 원그리기      \n",
    "   cv2.circle(image, center, radius, color, thickness=None, lineType=None, shift=None)\n",
    "   \n",
    "   \n",
    "4. 호 그리기   \n",
    "   cv2.ellipse(image, center, axes, angle, startAngle, endAngle, color, thickness=None, lineType=None, shift=None)\n",
    "   - angle : 기울여진 각도      \n",
    "   \n",
    "5. 내부가 채워지지 않은 다각형      \n",
    "   cv2.polylines(image, pts, isClosed, color, thickness=None, lineType=None, shift=None)  \n",
    "   - isClose(첫 점과 마지막 점의 연결 여부)       \n",
    "   - n개의 다각형을 한번에 그릴 수 있다.         \n",
    "   - 한 개의 다각형을 그리기 위해서는 의미있는 순서로 배치된 2차원 배열이 필요하다.            \n",
    "   \n",
    "   \n",
    "6. 내부가 채워진 다각형           \n",
    "   cv2.fillPoly(image, pts, color, thickness=None, lineType=None, shift=None)\n",
    "   \n",
    "   \n",
    "7. 문자 그리기    \n",
    "   cv2.putText(image, text, org, fontFace, fontScale, color, thickness=None, lineType=None, shift=None)\n",
    "   - 문자를 '입력하는 게 아니라 그리는' 방식        \n",
    "   - org(좌상단 모서리)를 기준으로 그림"
   ]
  },
  {
   "cell_type": "markdown",
   "metadata": {},
   "source": [
    "> Q18. 예제 4.10을 수행하고 결과를 확인해보세요."
   ]
  },
  {
   "cell_type": "code",
   "execution_count": null,
   "metadata": {},
   "outputs": [],
   "source": [
    "import numpy as np\n",
    "import cv2\n",
    "\n",
    "image = np.zeros((768,1366,3), dtype=np.uint8)\n",
    "\n",
    "#이미지 위의 100, 100 위치에서 1200, 100위치까지 그리기\n",
    "#cv2.line(image, point1, point2, color, thickness=None, lineType=None, shift=None)      \n",
    "cv2.line(image, (100,100), (1200, 100), (0,0, 255), 3, cv2.LINE_AA)\n",
    "\n",
    "#cv2.circle(image, center, radius, color, thickness=None, lineType=None, shift=None)\n",
    "cv2.circle(image, (300,300), 50, (0,255,0), cv2.FILLED, cv2.LINE_4)\n",
    "\n",
    "#cv2.rectangle(image, point1, point2, color, thickness=None, lineType=None, shift=None) \n",
    "cv2.rectangle(image, (500,200), (1000,400), (255,0,0), 5, cv2.LINE_8)\n",
    "\n",
    "#cv2.ellipse(image, center, axes, angle, startAngle, endAngle, color, thickness=None, lineType=None, shift=None)\n",
    "cv2.ellipse(image, (1200,300), (100,50), 0,90,180, (255,255,0),2)     \n",
    "\n",
    "pts1 = np.array([[[100,500], [300,500], [200,600]],[[400,500], [500,500], [600,700]]])\n",
    "pts2 = np.array([[700,500],[800,500],[700,600]])\n",
    "\n",
    "#cv2.polylines(image, pts, isClosed, color, thickness=None, lineType=None, shift=None)  \n",
    "cv2.polylines(image, pts1, True, (0,255,255), 2)\n",
    "\n",
    "#cv2.fillPoly(image, pts, color, thickness=None, lineType=None, shift=None)\n",
    "cv2.fillPoly(image, [pts2], (255,0,255), cv2.LINE_AA)\n",
    "\n",
    "#cv2.putText(image, text, org, fontFace, fontScale, color, thickness=None, lineType=None, shift=None)\n",
    "cv2.putText(image, \"Hello CV\", (900,600), cv2.FONT_HERSHEY_COMPLEX|cv2.FONT_ITALIC, 2, (255,255,255), 3)\n",
    "\n",
    "cv2.imshow(\"image\", image)\n",
    "cv2.waitKey(0)\n",
    "cv2.destroyAllWindows()"
   ]
  },
  {
   "cell_type": "markdown",
   "metadata": {},
   "source": [
    "### 6. 결과 저장             \n",
    "\n",
    "- OpenCV에서는 자체적으로 원본이나 결과물을 디스크에 저장할 수 있다.     \n",
    "- 원본을 변형하지 않고도 OpenCV의 코덱을 활용해 파일 형식을 변경할 수 있다.      \n",
    "- 결과 저장 함수는 이미지 입력 함수와 동일하게 압축 및 압축 해제 등 고수준의 작업을 처리한다.      \n",
    "\n",
    "### A. 이미지 저장"
   ]
  },
  {
   "cell_type": "markdown",
   "metadata": {},
   "source": [
    "- 이미지는 주로 8비트 3채널 이미지로 저장된다.(이미지를 표현하는 데 최소 8비트가 필요하다고 했던 이전 스터디 내용을 기억해보세요!)   \n",
    "- 하지만 PNG, TIFF등의 이미지 형식으로 저장하면, 8비트 3채널 이외에 16비트 이미지나 4채널로도 저장이 가능하다.     \n",
    "\n",
    "\n",
    "- 이미지 저장 함수는 이미지 파일 포맷을 처리하기 위해 소프트웨어 라이브러리에 의존적이다.         \n",
    "- OpenCV는 JPEG, PNG, TIFF는 자체적으로 지원한다. 이외의 다른 코덱은 운영체제에 의존한다. 외부 라이브러리인 libjpeg나 libpng를 통해 이미지를 저장할 수도 있다.     "
   ]
  },
  {
   "cell_type": "markdown",
   "metadata": {},
   "source": [
    "> Q19. python opencv의 이미지 저장 함수는 어떻게 표현되나요?"
   ]
  },
  {
   "cell_type": "markdown",
   "metadata": {},
   "source": [
    "> cv2.imwrite(filename, image, params=False)              \n",
    "\n",
    "- params : 인코딩될 매개변수"
   ]
  },
  {
   "cell_type": "markdown",
   "metadata": {},
   "source": [
    "> Q20. 새로운 이미지를 하나 불러와 도형을 하나 그리고, 예제 4.12를 활용해 이미지를 저장해보세요."
   ]
  },
  {
   "cell_type": "code",
   "execution_count": null,
   "metadata": {},
   "outputs": [],
   "source": [
    "import os\n",
    "import cv2\n",
    "\n",
    "image_path = os.getenv('HOME') + '/ShowMeTheCV/Jeongeun/PostingPic/see.jpg'\n",
    "\n",
    "image = cv2.imread(image_path)\n",
    "cv2.putText(image, \"Hello openCV\", (150,300), cv2.FONT_HERSHEY_COMPLEX|cv2.FONT_ITALIC, 2, (255,255,255), 3)\n",
    "\n",
    "save = cv2.imwrite(\"result.jpeg\", image, (cv2.IMWRITE_JPEG_QUALITY, 100, cv2.IMWRITE_JPEG_PROGRESSIVE, 1))\n",
    "print(save)"
   ]
  },
  {
   "cell_type": "markdown",
   "metadata": {},
   "source": [
    "### B. 동영상 저장         \n",
    "\n",
    "- OpenCV는 동영상을 저장할 때 프레임을 변경하거나, 변형을 녹화해서 저장할 수 있다.     \n",
    "- 운영체제마다 동영상 저장을 지원하는 코덱이 다르다.  "
   ]
  },
  {
   "cell_type": "markdown",
   "metadata": {},
   "source": [
    "> Q21. 각 운영체제 별로 지원하는 동영상 코덱이 어떻게 다른가요?"
   ]
  },
  {
   "cell_type": "markdown",
   "metadata": {},
   "source": [
    "1. 윈도우 : FFMPEG, MSWF, DSHOW       \n",
    "2. macOS : AVFoundation      \n",
    "3. 리눅스 : FFMREG"
   ]
  },
  {
   "cell_type": "markdown",
   "metadata": {},
   "source": [
    "> Q22. python openCV의 동영상 저장 함수는 어떻게 표현되나요?"
   ]
  },
  {
   "cell_type": "markdown",
   "metadata": {},
   "source": [
    "> cv2.imwrite(filename, fourcc, fps, frameSize, isColor=True)        \n",
    "\n",
    "- fourCC : 동영상 압축 시 사용할 압축코덱     "
   ]
  },
  {
   "cell_type": "markdown",
   "metadata": {},
   "source": [
    "> Q23. 예제 4.14를 타이핑해 보세요."
   ]
  },
  {
   "cell_type": "code",
   "execution_count": null,
   "metadata": {},
   "outputs": [],
   "source": [
    "import cv2\n",
    "\n",
    "capture = cv2.VideoCapture(video_path)\n",
    "width = int(capture.get(cv2.CAP_PROP_FRAME_WIDTH))\n",
    "height = int(capture.get(cv2.CAP_PROP_FRAME_HEIGHT))\n",
    "\n",
    "videoWriter = cv2.VideoWriter\n",
    "isWrite=False\n",
    "\n",
    "while True:\n",
    "    ret, frame = capture.read()\n",
    "    \n",
    "    if(capture.get(cv2.CAP_PROP_POS_FRAMES) == capture.get(cv2.CAP_PROP_FRAME_COUNT)):\n",
    "        capture.open(capture)\n",
    "        \n",
    "    cv2.imshow('VideFrame', frame)\n",
    "    key=cv2.waitKey(33)\n",
    "    \n",
    "    if key == 4:\n",
    "        fourcc = cv2.VideoWriter_fourcc(*'XVID')\n",
    "        videoWriter.open(\"Video.avi\", fourcc, 30, (width, height), True)\n",
    "        isWrite=True\n",
    "        \n",
    "    if key == 24:\n",
    "        videoWriter.release()\n",
    "        isWrite=False\n",
    "        \n",
    "    elif key == ord('q'):break\n",
    "        \n",
    "    \n",
    "    if isWrite ==True:\n",
    "        videoWriter.write(frame)\n",
    "        \n",
    "videoWriter.release()\n",
    "capture.release()\n",
    "cv2.destroyAllWindows()"
   ]
  },
  {
   "cell_type": "markdown",
   "metadata": {},
   "source": [
    "## 셋째 날 실습은 여기까지입니다. 고생하셨습니다 :)"
   ]
  }
 ],
 "metadata": {
  "kernelspec": {
   "display_name": "aiffel",
   "language": "python",
   "name": "aiffel"
  },
  "language_info": {
   "codemirror_mode": {
    "name": "ipython",
    "version": 3
   },
   "file_extension": ".py",
   "mimetype": "text/x-python",
   "name": "python",
   "nbconvert_exporter": "python",
   "pygments_lexer": "ipython3",
   "version": "3.7.9"
  }
 },
 "nbformat": 4,
 "nbformat_minor": 4
}
